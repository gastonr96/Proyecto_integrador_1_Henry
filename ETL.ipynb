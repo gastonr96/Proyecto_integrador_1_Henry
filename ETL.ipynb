{
 "cells": [
  {
   "cell_type": "code",
   "execution_count": 185,
   "metadata": {},
   "outputs": [],
   "source": [
    "import pandas as pd\n",
    "import numpy as np\n",
    "import ast \n",
    "from datetime import datetime"
   ]
  },
  {
   "cell_type": "code",
   "execution_count": 186,
   "metadata": {},
   "outputs": [
    {
     "name": "stderr",
     "output_type": "stream",
     "text": [
      "C:\\Users\\gaston\\AppData\\Local\\Temp\\ipykernel_21868\\1428576990.py:3: DtypeWarning: Columns (10) have mixed types. Specify dtype option on import or set low_memory=False.\n",
      "  df_movies=pd.read_csv(path_movies, encoding=\"utf-8\")\n"
     ]
    },
    {
     "data": {
      "text/html": [
       "<div>\n",
       "<style scoped>\n",
       "    .dataframe tbody tr th:only-of-type {\n",
       "        vertical-align: middle;\n",
       "    }\n",
       "\n",
       "    .dataframe tbody tr th {\n",
       "        vertical-align: top;\n",
       "    }\n",
       "\n",
       "    .dataframe thead th {\n",
       "        text-align: right;\n",
       "    }\n",
       "</style>\n",
       "<table border=\"1\" class=\"dataframe\">\n",
       "  <thead>\n",
       "    <tr style=\"text-align: right;\">\n",
       "      <th></th>\n",
       "      <th>adult</th>\n",
       "      <th>belongs_to_collection</th>\n",
       "      <th>budget</th>\n",
       "      <th>genres</th>\n",
       "      <th>homepage</th>\n",
       "      <th>id</th>\n",
       "      <th>imdb_id</th>\n",
       "      <th>original_language</th>\n",
       "      <th>original_title</th>\n",
       "      <th>overview</th>\n",
       "      <th>...</th>\n",
       "      <th>release_date</th>\n",
       "      <th>revenue</th>\n",
       "      <th>runtime</th>\n",
       "      <th>spoken_languages</th>\n",
       "      <th>status</th>\n",
       "      <th>tagline</th>\n",
       "      <th>title</th>\n",
       "      <th>video</th>\n",
       "      <th>vote_average</th>\n",
       "      <th>vote_count</th>\n",
       "    </tr>\n",
       "  </thead>\n",
       "  <tbody>\n",
       "    <tr>\n",
       "      <th>0</th>\n",
       "      <td>False</td>\n",
       "      <td>{'id': 10194, 'name': 'Toy Story Collection', ...</td>\n",
       "      <td>30000000</td>\n",
       "      <td>[{'id': 16, 'name': 'Animation'}, {'id': 35, '...</td>\n",
       "      <td>http://toystory.disney.com/toy-story</td>\n",
       "      <td>862</td>\n",
       "      <td>tt0114709</td>\n",
       "      <td>en</td>\n",
       "      <td>Toy Story</td>\n",
       "      <td>Led by Woody, Andy's toys live happily in his ...</td>\n",
       "      <td>...</td>\n",
       "      <td>1995-10-30</td>\n",
       "      <td>373554033.0</td>\n",
       "      <td>81.0</td>\n",
       "      <td>[{'iso_639_1': 'en', 'name': 'English'}]</td>\n",
       "      <td>Released</td>\n",
       "      <td>NaN</td>\n",
       "      <td>Toy Story</td>\n",
       "      <td>False</td>\n",
       "      <td>7.7</td>\n",
       "      <td>5415.0</td>\n",
       "    </tr>\n",
       "    <tr>\n",
       "      <th>1</th>\n",
       "      <td>False</td>\n",
       "      <td>NaN</td>\n",
       "      <td>65000000</td>\n",
       "      <td>[{'id': 12, 'name': 'Adventure'}, {'id': 14, '...</td>\n",
       "      <td>NaN</td>\n",
       "      <td>8844</td>\n",
       "      <td>tt0113497</td>\n",
       "      <td>en</td>\n",
       "      <td>Jumanji</td>\n",
       "      <td>When siblings Judy and Peter discover an encha...</td>\n",
       "      <td>...</td>\n",
       "      <td>1995-12-15</td>\n",
       "      <td>262797249.0</td>\n",
       "      <td>104.0</td>\n",
       "      <td>[{'iso_639_1': 'en', 'name': 'English'}, {'iso...</td>\n",
       "      <td>Released</td>\n",
       "      <td>Roll the dice and unleash the excitement!</td>\n",
       "      <td>Jumanji</td>\n",
       "      <td>False</td>\n",
       "      <td>6.9</td>\n",
       "      <td>2413.0</td>\n",
       "    </tr>\n",
       "    <tr>\n",
       "      <th>2</th>\n",
       "      <td>False</td>\n",
       "      <td>{'id': 119050, 'name': 'Grumpy Old Men Collect...</td>\n",
       "      <td>0</td>\n",
       "      <td>[{'id': 10749, 'name': 'Romance'}, {'id': 35, ...</td>\n",
       "      <td>NaN</td>\n",
       "      <td>15602</td>\n",
       "      <td>tt0113228</td>\n",
       "      <td>en</td>\n",
       "      <td>Grumpier Old Men</td>\n",
       "      <td>A family wedding reignites the ancient feud be...</td>\n",
       "      <td>...</td>\n",
       "      <td>1995-12-22</td>\n",
       "      <td>0.0</td>\n",
       "      <td>101.0</td>\n",
       "      <td>[{'iso_639_1': 'en', 'name': 'English'}]</td>\n",
       "      <td>Released</td>\n",
       "      <td>Still Yelling. Still Fighting. Still Ready for...</td>\n",
       "      <td>Grumpier Old Men</td>\n",
       "      <td>False</td>\n",
       "      <td>6.5</td>\n",
       "      <td>92.0</td>\n",
       "    </tr>\n",
       "    <tr>\n",
       "      <th>3</th>\n",
       "      <td>False</td>\n",
       "      <td>NaN</td>\n",
       "      <td>16000000</td>\n",
       "      <td>[{'id': 35, 'name': 'Comedy'}, {'id': 18, 'nam...</td>\n",
       "      <td>NaN</td>\n",
       "      <td>31357</td>\n",
       "      <td>tt0114885</td>\n",
       "      <td>en</td>\n",
       "      <td>Waiting to Exhale</td>\n",
       "      <td>Cheated on, mistreated and stepped on, the wom...</td>\n",
       "      <td>...</td>\n",
       "      <td>1995-12-22</td>\n",
       "      <td>81452156.0</td>\n",
       "      <td>127.0</td>\n",
       "      <td>[{'iso_639_1': 'en', 'name': 'English'}]</td>\n",
       "      <td>Released</td>\n",
       "      <td>Friends are the people who let you be yourself...</td>\n",
       "      <td>Waiting to Exhale</td>\n",
       "      <td>False</td>\n",
       "      <td>6.1</td>\n",
       "      <td>34.0</td>\n",
       "    </tr>\n",
       "    <tr>\n",
       "      <th>4</th>\n",
       "      <td>False</td>\n",
       "      <td>{'id': 96871, 'name': 'Father of the Bride Col...</td>\n",
       "      <td>0</td>\n",
       "      <td>[{'id': 35, 'name': 'Comedy'}]</td>\n",
       "      <td>NaN</td>\n",
       "      <td>11862</td>\n",
       "      <td>tt0113041</td>\n",
       "      <td>en</td>\n",
       "      <td>Father of the Bride Part II</td>\n",
       "      <td>Just when George Banks has recovered from his ...</td>\n",
       "      <td>...</td>\n",
       "      <td>1995-02-10</td>\n",
       "      <td>76578911.0</td>\n",
       "      <td>106.0</td>\n",
       "      <td>[{'iso_639_1': 'en', 'name': 'English'}]</td>\n",
       "      <td>Released</td>\n",
       "      <td>Just When His World Is Back To Normal... He's ...</td>\n",
       "      <td>Father of the Bride Part II</td>\n",
       "      <td>False</td>\n",
       "      <td>5.7</td>\n",
       "      <td>173.0</td>\n",
       "    </tr>\n",
       "  </tbody>\n",
       "</table>\n",
       "<p>5 rows × 24 columns</p>\n",
       "</div>"
      ],
      "text/plain": [
       "   adult                              belongs_to_collection    budget  \\\n",
       "0  False  {'id': 10194, 'name': 'Toy Story Collection', ...  30000000   \n",
       "1  False                                                NaN  65000000   \n",
       "2  False  {'id': 119050, 'name': 'Grumpy Old Men Collect...         0   \n",
       "3  False                                                NaN  16000000   \n",
       "4  False  {'id': 96871, 'name': 'Father of the Bride Col...         0   \n",
       "\n",
       "                                              genres  \\\n",
       "0  [{'id': 16, 'name': 'Animation'}, {'id': 35, '...   \n",
       "1  [{'id': 12, 'name': 'Adventure'}, {'id': 14, '...   \n",
       "2  [{'id': 10749, 'name': 'Romance'}, {'id': 35, ...   \n",
       "3  [{'id': 35, 'name': 'Comedy'}, {'id': 18, 'nam...   \n",
       "4                     [{'id': 35, 'name': 'Comedy'}]   \n",
       "\n",
       "                               homepage     id    imdb_id original_language  \\\n",
       "0  http://toystory.disney.com/toy-story    862  tt0114709                en   \n",
       "1                                   NaN   8844  tt0113497                en   \n",
       "2                                   NaN  15602  tt0113228                en   \n",
       "3                                   NaN  31357  tt0114885                en   \n",
       "4                                   NaN  11862  tt0113041                en   \n",
       "\n",
       "                original_title  \\\n",
       "0                    Toy Story   \n",
       "1                      Jumanji   \n",
       "2             Grumpier Old Men   \n",
       "3            Waiting to Exhale   \n",
       "4  Father of the Bride Part II   \n",
       "\n",
       "                                            overview  ... release_date  \\\n",
       "0  Led by Woody, Andy's toys live happily in his ...  ...   1995-10-30   \n",
       "1  When siblings Judy and Peter discover an encha...  ...   1995-12-15   \n",
       "2  A family wedding reignites the ancient feud be...  ...   1995-12-22   \n",
       "3  Cheated on, mistreated and stepped on, the wom...  ...   1995-12-22   \n",
       "4  Just when George Banks has recovered from his ...  ...   1995-02-10   \n",
       "\n",
       "       revenue runtime                                   spoken_languages  \\\n",
       "0  373554033.0    81.0           [{'iso_639_1': 'en', 'name': 'English'}]   \n",
       "1  262797249.0   104.0  [{'iso_639_1': 'en', 'name': 'English'}, {'iso...   \n",
       "2          0.0   101.0           [{'iso_639_1': 'en', 'name': 'English'}]   \n",
       "3   81452156.0   127.0           [{'iso_639_1': 'en', 'name': 'English'}]   \n",
       "4   76578911.0   106.0           [{'iso_639_1': 'en', 'name': 'English'}]   \n",
       "\n",
       "     status                                            tagline  \\\n",
       "0  Released                                                NaN   \n",
       "1  Released          Roll the dice and unleash the excitement!   \n",
       "2  Released  Still Yelling. Still Fighting. Still Ready for...   \n",
       "3  Released  Friends are the people who let you be yourself...   \n",
       "4  Released  Just When His World Is Back To Normal... He's ...   \n",
       "\n",
       "                         title  video vote_average vote_count  \n",
       "0                    Toy Story  False          7.7     5415.0  \n",
       "1                      Jumanji  False          6.9     2413.0  \n",
       "2             Grumpier Old Men  False          6.5       92.0  \n",
       "3            Waiting to Exhale  False          6.1       34.0  \n",
       "4  Father of the Bride Part II  False          5.7      173.0  \n",
       "\n",
       "[5 rows x 24 columns]"
      ]
     },
     "execution_count": 186,
     "metadata": {},
     "output_type": "execute_result"
    }
   ],
   "source": [
    "path_movies=(r\"C:\\Users\\gaston\\Documents\\estudio\\material henry compartido\\Proyecto integrador\\movies_dataset.csv\") # path del archivo movies\n",
    "# lee el csv movies con pandas\n",
    "df_movies=pd.read_csv(path_movies, encoding=\"utf-8\")\n",
    "df_movies.head()\n"
   ]
  },
  {
   "cell_type": "code",
   "execution_count": 187,
   "metadata": {},
   "outputs": [
    {
     "data": {
      "text/html": [
       "<div>\n",
       "<style scoped>\n",
       "    .dataframe tbody tr th:only-of-type {\n",
       "        vertical-align: middle;\n",
       "    }\n",
       "\n",
       "    .dataframe tbody tr th {\n",
       "        vertical-align: top;\n",
       "    }\n",
       "\n",
       "    .dataframe thead th {\n",
       "        text-align: right;\n",
       "    }\n",
       "</style>\n",
       "<table border=\"1\" class=\"dataframe\">\n",
       "  <thead>\n",
       "    <tr style=\"text-align: right;\">\n",
       "      <th></th>\n",
       "      <th>cast</th>\n",
       "      <th>crew</th>\n",
       "      <th>id</th>\n",
       "    </tr>\n",
       "  </thead>\n",
       "  <tbody>\n",
       "    <tr>\n",
       "      <th>0</th>\n",
       "      <td>[{'cast_id': 14, 'character': 'Woody (voice)',...</td>\n",
       "      <td>[{'credit_id': '52fe4284c3a36847f8024f49', 'de...</td>\n",
       "      <td>862</td>\n",
       "    </tr>\n",
       "    <tr>\n",
       "      <th>1</th>\n",
       "      <td>[{'cast_id': 1, 'character': 'Alan Parrish', '...</td>\n",
       "      <td>[{'credit_id': '52fe44bfc3a36847f80a7cd1', 'de...</td>\n",
       "      <td>8844</td>\n",
       "    </tr>\n",
       "    <tr>\n",
       "      <th>2</th>\n",
       "      <td>[{'cast_id': 2, 'character': 'Max Goldman', 'c...</td>\n",
       "      <td>[{'credit_id': '52fe466a9251416c75077a89', 'de...</td>\n",
       "      <td>15602</td>\n",
       "    </tr>\n",
       "    <tr>\n",
       "      <th>3</th>\n",
       "      <td>[{'cast_id': 1, 'character': \"Savannah 'Vannah...</td>\n",
       "      <td>[{'credit_id': '52fe44779251416c91011acb', 'de...</td>\n",
       "      <td>31357</td>\n",
       "    </tr>\n",
       "    <tr>\n",
       "      <th>4</th>\n",
       "      <td>[{'cast_id': 1, 'character': 'George Banks', '...</td>\n",
       "      <td>[{'credit_id': '52fe44959251416c75039ed7', 'de...</td>\n",
       "      <td>11862</td>\n",
       "    </tr>\n",
       "  </tbody>\n",
       "</table>\n",
       "</div>"
      ],
      "text/plain": [
       "                                                cast  \\\n",
       "0  [{'cast_id': 14, 'character': 'Woody (voice)',...   \n",
       "1  [{'cast_id': 1, 'character': 'Alan Parrish', '...   \n",
       "2  [{'cast_id': 2, 'character': 'Max Goldman', 'c...   \n",
       "3  [{'cast_id': 1, 'character': \"Savannah 'Vannah...   \n",
       "4  [{'cast_id': 1, 'character': 'George Banks', '...   \n",
       "\n",
       "                                                crew     id  \n",
       "0  [{'credit_id': '52fe4284c3a36847f8024f49', 'de...    862  \n",
       "1  [{'credit_id': '52fe44bfc3a36847f80a7cd1', 'de...   8844  \n",
       "2  [{'credit_id': '52fe466a9251416c75077a89', 'de...  15602  \n",
       "3  [{'credit_id': '52fe44779251416c91011acb', 'de...  31357  \n",
       "4  [{'credit_id': '52fe44959251416c75039ed7', 'de...  11862  "
      ]
     },
     "execution_count": 187,
     "metadata": {},
     "output_type": "execute_result"
    }
   ],
   "source": [
    "\n",
    "path_credits=r\"C:\\Users\\gaston\\Documents\\estudio\\material henry compartido\\Proyecto integrador\\credits.csv\" # path del archivo credits\n",
    "# Lee el CSV  credits con pandas\n",
    "df_credits=pd.read_csv(path_credits,encoding=\"utf-8\")\n",
    "df_credits.head()\n"
   ]
  },
  {
   "cell_type": "markdown",
   "metadata": {},
   "source": [
    "### FUNCIONES PARA LA DESANIDAR LOS DATOS(NAMES) QUE SE EN ENCUENTRAN EN DATASET DE MOVIES"
   ]
  },
  {
   "cell_type": "code",
   "execution_count": 188,
   "metadata": {},
   "outputs": [],
   "source": [
    "#funcion para desanidar los datos que se encuentran en forma de diccionario\n",
    "\n",
    "def explode_dict(value,key): # Asignamos las variables: 'value' seria el valor de la columna y 'key' la clave que queremos extrer\n",
    "    if pd.isna(value):\n",
    "        return np.nan\n",
    "    try:\n",
    "        dicc = ast.literal_eval(value)  # Convertimos el valor string en un diccionario\n",
    "        if isinstance(dicc, dict):\n",
    "            return dicc.get(key, np.nan)  # Extraemos únicamente el valor asociado a la clave 'key'\n",
    "        else:\n",
    "            return np.nan\n",
    "    except (ValueError, SyntaxError):\n",
    "        return np.nan"
   ]
  },
  {
   "cell_type": "code",
   "execution_count": 189,
   "metadata": {},
   "outputs": [],
   "source": [
    "#  funcion para datos anidados con listas de diccionarios \n",
    "def explode_list(value, key):\n",
    "    if pd.isna(value):\n",
    "        return np.nan\n",
    "    try:\n",
    "        lis = ast.literal_eval(value)\n",
    "        if isinstance(lis, list): \n",
    "            names = [item.get(key) for item in lis if isinstance(item, dict)]\n",
    "            return ', '.join(names) if names else np.nan  # Esto devuelve una cadena con los valores separados por comas\n",
    "        else:\n",
    "            return np.nan\n",
    "    except (ValueError, SyntaxError):\n",
    "        return np.nan"
   ]
  },
  {
   "cell_type": "markdown",
   "metadata": {},
   "source": [
    "### FUNCIONES PARA LA DESANIDAR LOS DATOS QUE SERAN UTILIZADOS EN EL ENDPOINT_1 Y ENDPOINT_2"
   ]
  },
  {
   "cell_type": "code",
   "execution_count": 190,
   "metadata": {},
   "outputs": [],
   "source": [
    "#funcion para extraer nombres de actores\n",
    "def extract_actors(columna):\n",
    "    try:\n",
    "        cast = ast.literal_eval(columna)\n",
    "    except (ValueError, SyntaxError):\n",
    "        return []\n",
    "    \n",
    "    return [actor.get('name') for actor in cast]"
   ]
  },
  {
   "cell_type": "code",
   "execution_count": 191,
   "metadata": {},
   "outputs": [],
   "source": [
    "#función para extraer los directores \n",
    "def extract_directors(crew_list):\n",
    "    if isinstance(crew_list, str):\n",
    "        crew_list = ast.literal_eval(crew_list)\n",
    "    \n",
    "    directores = [d['name'] for d in crew_list if d.get('job') == 'Director']\n",
    "    return directores[0] if directores else None"
   ]
  },
  {
   "cell_type": "code",
   "execution_count": 192,
   "metadata": {},
   "outputs": [
    {
     "data": {
      "text/plain": [
       "'def explode_list_2(value, keys):\\n    try:\\n        lis = ast.literal_eval(value) if isinstance(value, str) else value  # Convierte cadenas en listas/diccionarios\\n        if not isinstance(lis, list):  \\n            return np.nan  # Si no es una lista, retorna NaN\\n        \\n        extracted_values = []\\n        for item in lis:\\n            if isinstance(item, dict):\\n                extracted_values.append(tuple(item.get(int(key), item.get(str(key), np.nan)) for key in keys))\\n        \\n        return extracted_values if extracted_values else np.nan\\n    except (ValueError, SyntaxError, TypeError):  \\n        return np.nan '"
      ]
     },
     "execution_count": 192,
     "metadata": {},
     "output_type": "execute_result"
    }
   ],
   "source": [
    "\"\"\"def explode_list_2(value, keys):\n",
    "    try:\n",
    "        lis = ast.literal_eval(value) if isinstance(value, str) else value  # Convierte cadenas en listas/diccionarios\n",
    "        if not isinstance(lis, list):  \n",
    "            return np.nan  # Si no es una lista, retorna NaN\n",
    "        \n",
    "        extracted_values = []\n",
    "        for item in lis:\n",
    "            if isinstance(item, dict):\n",
    "                extracted_values.append(tuple(item.get(int(key), item.get(str(key), np.nan)) for key in keys))\n",
    "        \n",
    "        return extracted_values if extracted_values else np.nan\n",
    "    except (ValueError, SyntaxError, TypeError):  \n",
    "        return np.nan \"\"\""
   ]
  },
  {
   "cell_type": "code",
   "execution_count": 193,
   "metadata": {},
   "outputs": [
    {
     "name": "stdout",
     "output_type": "stream",
     "text": [
      "0\n",
      "0\n",
      "0\n",
      "0\n"
     ]
    }
   ],
   "source": [
    "\n",
    "print(df_credits[\"crew\"].isna().sum())#valores nulos de crew\n",
    "print(df_credits[\"cast\"].isna().sum()) #valores nulos de cast\n",
    "\n",
    "df_credits = df_credits.dropna(subset=[\"crew\", \"cast\", \"id\"], how=\"any\")\n",
    "for fila in df_credits.index:  \n",
    "    if df_credits.loc[fila, [\"crew\", \"cast\", \"id\"]].isnull().any():  # elimina la fila si existe algun valor nulo\n",
    "        df_credits.drop(index=fila, inplace=True)\n",
    "\n",
    "print(df_credits[\"crew\"].isna().sum())#valores nulos de crew luego de aplicar la funcion\n",
    "print(df_credits[\"cast\"].isna().sum())#valores nulos de cast luego de aplicar la funcion\n",
    "\n"
   ]
  },
  {
   "cell_type": "markdown",
   "metadata": {},
   "source": [
    "### DESANIDACION DE LOS DATOS "
   ]
  },
  {
   "cell_type": "code",
   "execution_count": 194,
   "metadata": {},
   "outputs": [],
   "source": [
    "# Aplicamos la funcion para extraer los 'name' o nombres que hacen referencia al dato mas importante y luego se elimina la columna\n",
    "\n",
    "keys_cast=[\"cast_id\",\"character\",\"credit_id\",\"gender\",\"id\",\"name\",\"order\",\"profile_path\"]\n",
    "keys_crew=[\"credit_id\",\"department\",\"gender\",\"id\",\"job\",\"name\",\"profile_path\",\"department\",\"job\",\"name\",\"profile_path\"]\n",
    "\n",
    "key=\"name\"\n",
    "\n",
    "df_movies[\"belong_to_collection\"]=df_movies[\"belongs_to_collection\"].apply(explode_dict,key=\"name\")\n",
    "\n",
    "df_movies[\"genres\"] = df_movies[\"genres\"].apply(explode_list, key=key)\n",
    "\n",
    "df_movies[\"countries\"] = df_movies[\"production_countries\"].apply(explode_list, key=key)\n",
    "\n",
    "df_movies[\"companies\"] = df_movies[\"production_companies\"].apply(explode_list, key=key)\n",
    "\n",
    "df_movies[\"languages\"] = df_movies[\"spoken_languages\"].apply(explode_list, key=key)\n",
    "\n",
    "df_credits[\"actors\"]=df_credits[\"cast\"].apply(extract_actors)\n",
    "\n",
    "df_credits[\"director\"]=df_credits[\"crew\"].apply(extract_directors)\n",
    "\n",
    "\n",
    "\n",
    "\n",
    "\n",
    "\n",
    "# eleiminamos la informacion que no utilizaremos, tanto en credits como en movies\n",
    "\n",
    "df_movies=df_movies.drop(columns=[\"production_companies\",\"production_countries\",\"spoken_languages\"]) #columnas que ya han sido desanidadas \n",
    "\n",
    "df_credits=df_credits.drop(columns=[\"crew\",\"cast\"]) #columnas que ya han sido desanidadas(name:actors and director)\n",
    "\n",
    "#Eliminar las columnas que no serán utilizadas, video,imdb_id,adult,original_title,poster_path y homepage.\n",
    "\n",
    "df_movies = df_movies.drop(columns=[\"video\", \"imdb_id\",\"adult\",\"original_title\",\"poster_path\",\"homepage\"])\n",
    "\n",
    "\n"
   ]
  },
  {
   "cell_type": "code",
   "execution_count": 195,
   "metadata": {},
   "outputs": [
    {
     "name": "stdout",
     "output_type": "stream",
     "text": [
      "6\n",
      "0\n",
      "0\n",
      "0\n"
     ]
    }
   ],
   "source": [
    "#Los valores nulos de los campos revenue, budget deben ser rellenados por el número 0.\n",
    "\n",
    "print(df_movies[\"revenue\"].isnull().sum())#cantidad de valores nulos\n",
    "if df_movies[\"revenue\"].isna().sum()>=1:\n",
    "    df_movies[\"revenue\"]=df_movies[\"revenue\"].fillna(0) #valores nulos se completan con 0\n",
    "print(df_movies[\"revenue\"].isnull().sum())\n",
    "\n",
    "\n",
    "print(df_movies[\"budget\"].isnull().sum())#cantidad de valores nulos\n",
    "if df_movies[\"budget\"].isna().sum()>=1:\n",
    "    df_movies[\"budget\"]=df_movies[\"budget\"].fillna(0)#valores nulos se completan con 0\n",
    "print(df_movies[\"budget\"].isnull().sum())"
   ]
  },
  {
   "cell_type": "code",
   "execution_count": 196,
   "metadata": {},
   "outputs": [
    {
     "name": "stdout",
     "output_type": "stream",
     "text": [
      "87\n",
      "\n",
      "Después de eliminar valores nulos:\n",
      "0\n"
     ]
    }
   ],
   "source": [
    "#Los valores nulos del campo release date deben eliminarse.\n",
    "print(df_movies[\"release_date\"].isnull().sum())\n",
    "if(df_movies[\"release_date\"].isnull().sum()>=1):\n",
    "   df_movies= df_movies.dropna(subset=['release_date'])\n",
    "print(\"\\nDespués de eliminar valores nulos:\")\n",
    "print(df_movies[\"release_date\"].isnull().sum())"
   ]
  },
  {
   "cell_type": "code",
   "execution_count": 197,
   "metadata": {},
   "outputs": [],
   "source": [
    "def formatoFecha(df):\n",
    "    valor=False\n",
    "    dfN=pd.DataFrame()\n",
    "    dfN_mes=pd.DataFrame()\n",
    "    dfN[[\"DD\", \"MM\",\"AAAA\"]] = df.str.split(\"-\"\"/\", expand=True)#Para ver el formato DD-MM o MM-DD\n",
    "\n",
    "    dfN_mes=dfN[[\"MM\"]].dropna() #eliminar valores nulos\n",
    "\n",
    "    dfN_mes= dfN_mes.astype(int)#Convertir a int\n",
    "   #Filtrar donde DD > 12\n",
    "        \n",
    "    if ([dfN_mes < 12]):\n",
    "        valor=True\n",
    "    return(valor)"
   ]
  },
  {
   "cell_type": "code",
   "execution_count": 198,
   "metadata": {},
   "outputs": [
    {
     "name": "stdout",
     "output_type": "stream",
     "text": [
      "La columna 'id' contiene fechas de formato AAAA-MM-DD.\n",
      "3\n",
      "La columna 'release_date' contiene fechas de formato AAAA-MM-DD.\n",
      "45376\n"
     ]
    }
   ],
   "source": [
    "# se verifica que columnas contiene fecheas\n",
    "# se verifica formato de fecha \n",
    "regex_fecha1=r\"^\\d{4}-\\d{2}-\\d{2}$\"\n",
    "regex_fecha2=r\"^\\d{2}-\\d{2}-\\d{4}$\"\n",
    "\n",
    "\n",
    "for columna in df_movies.columns: # Recorrer todas las columnas\n",
    "    if df_movies[columna].astype(str).str.match(regex_fecha1).any():\n",
    "        print(f\"La columna '{columna}' contiene fechas de formato AAAA-MM-DD.\")#formato correcto\n",
    "        print(df_movies[columna].astype(str).str.match(regex_fecha1).sum())\n",
    "        formato=1\n",
    "    elif(df_movies[columna].astype(str).str.match(regex_fecha2).any()):\n",
    "        print(f\"La columna '{columna}' contiene fechas de formato DD-MM-AAAA o MM-DD-AAA.\") #puede tener dos formatos\n",
    "        print(df_movies[columna].astype(str).str.match(regex_fecha2).sum())\n",
    "        formato=2\n",
    "\n",
    "#la columna que contiene fecha es la release_date\n",
    "\n",
    "if(formato==2)and(True==formatoFecha(df_movies[\"release_date\"])):#DD-MM-AAAA\n",
    "    print(\"DD-MM-AAAA\")"
   ]
  },
  {
   "cell_type": "code",
   "execution_count": 199,
   "metadata": {},
   "outputs": [
    {
     "data": {
      "text/plain": [
       "0        1995\n",
       "1        1995\n",
       "2        1995\n",
       "3        1995\n",
       "4        1995\n",
       "         ... \n",
       "45460    1991\n",
       "45462    2011\n",
       "45463    2003\n",
       "45464    1917\n",
       "45465    2017\n",
       "Name: release_year, Length: 45379, dtype: object"
      ]
     },
     "execution_count": 199,
     "metadata": {},
     "output_type": "execute_result"
    }
   ],
   "source": [
    "regex_fecha = r\"^\\d{4}-(0[1-9]|1[0-2])-(0[1-9]|[12][0-9]|3[01])$\"\n",
    "\n",
    "#  Reemplazar valores nulos o incorrectos con \"00-00-0000\"\n",
    "df_año= df_movies[\"release_date\"].apply(lambda x: x if pd.notna(x) and pd.Series(x).str.match(regex_fecha).any() else \"0000-00-00\")\n",
    "\n",
    "# Mostrar resultado\n",
    "df_año= df_año.str.slice(0, 4)#obtengo el año formato string \n",
    "df_movies[\"release_year\"] =df_año\n",
    "df_movies[\"release_year\"]\n",
    "\n"
   ]
  },
  {
   "cell_type": "code",
   "execution_count": 200,
   "metadata": {},
   "outputs": [
    {
     "data": {
      "text/plain": [
       "0        12.451801\n",
       "1         4.043035\n",
       "2         0.000000\n",
       "3         5.090760\n",
       "4         0.000000\n",
       "           ...    \n",
       "45460     0.000000\n",
       "45462     0.000000\n",
       "45463     0.000000\n",
       "45464     0.000000\n",
       "45465     0.000000\n",
       "Name: return, Length: 45379, dtype: float64"
      ]
     },
     "execution_count": 200,
     "metadata": {},
     "output_type": "execute_result"
    }
   ],
   "source": [
    "#Crear la columna con el retorno de inversión, llamada return con los campos revenue y budget, dividiendo estas dos últimas revenue / budget, \n",
    "# cuando no hay datos disponibles para calcularlo, deberá tomar el valor 0.\n",
    "\n",
    "df_movies[\"revenue\"] = df_movies[\"revenue\"].apply(pd.to_numeric, errors='coerce').fillna(0) #completa los valores no numericos con 0\n",
    "df_movies[\"budget\"] = df_movies[\"budget\"].apply(pd.to_numeric, errors='coerce').fillna(0) #completa los valores no numericos con 0\n",
    "\n",
    "df_movies[\"return\"]= df_movies.apply(\n",
    "    lambda row: row[\"revenue\"] / row[\"budget\"] if row[\"budget\"]>0 and row[\"revenue\"]>0 else 0,axis=1\n",
    ")\n",
    "df_movies[\"return\"]"
   ]
  },
  {
   "cell_type": "code",
   "execution_count": 201,
   "metadata": {},
   "outputs": [],
   "source": [
    "# Para analizar posteriormente los datos convertimos los formatos de estas columnas   \n",
    "df_movies[\"popularity\"] = df_movies[\"popularity\"].apply(pd.to_numeric, errors='coerce').fillna(0) #pasamos a float los valores, de no ser posible se completan con 0\n",
    "df_movies[\"release_date\"]=df_movies[\"release_date\"].apply(pd.to_datetime,errors='coerce')#pasamos a formato datetime las fechas que se encuentrar en formato de cadena"
   ]
  },
  {
   "cell_type": "code",
   "execution_count": 202,
   "metadata": {},
   "outputs": [
    {
     "data": {
      "text/plain": [
       "0        30000000.0\n",
       "1        65000000.0\n",
       "2               0.0\n",
       "3        16000000.0\n",
       "4               0.0\n",
       "            ...    \n",
       "45460           0.0\n",
       "45462           0.0\n",
       "45463           0.0\n",
       "45464           0.0\n",
       "45465           0.0\n",
       "Name: budget, Length: 45379, dtype: float64"
      ]
     },
     "execution_count": 202,
     "metadata": {},
     "output_type": "execute_result"
    }
   ],
   "source": [
    "df_movies[\"budget\"]"
   ]
  },
  {
   "cell_type": "code",
   "execution_count": 203,
   "metadata": {},
   "outputs": [
    {
     "name": "stdout",
     "output_type": "stream",
     "text": [
      "Index(['belongs_to_collection', 'budget', 'genres', 'id', 'original_language',\n",
      "       'overview', 'popularity', 'release_date', 'revenue', 'runtime',\n",
      "       'status', 'tagline', 'title', 'vote_average', 'vote_count',\n",
      "       'belong_to_collection', 'countries', 'companies', 'languages',\n",
      "       'release_year', 'return', 'actors', 'director'],\n",
      "      dtype='object')\n",
      "1045373\n"
     ]
    }
   ],
   "source": [
    "# Convertimos 'id' a numérico, forzando errores a NaN\n",
    "df_movies[\"id\"] = pd.to_numeric(df_movies[\"id\"], errors=\"coerce\")\n",
    "df_credits[\"id\"] = pd.to_numeric(df_credits[\"id\"], errors=\"coerce\")\n",
    "\n",
    "# Eliminamos las filas donde 'id' es NaN (valores no convertibles)\n",
    "df_movies = df_movies.dropna(subset=[\"id\"])\n",
    "df_credits = df_credits.dropna(subset=[\"id\"])\n",
    "\n",
    "# Convertimos 'id' a int64\n",
    "df_movies[\"id\"] = df_movies[\"id\"].astype(int)\n",
    "df_credits[\"id\"] = df_credits[\"id\"].astype(int)\n",
    "\n",
    "# Ahora realizamos el merge\n",
    "df = pd.merge(df_movies, df_credits, on=\"id\", how=\"inner\")\n",
    "\n",
    "print(df.columns)\n",
    "print(df.size)"
   ]
  },
  {
   "cell_type": "markdown",
   "metadata": {},
   "source": [
    "# ENDPOINT_1"
   ]
  },
  {
   "cell_type": "code",
   "execution_count": 204,
   "metadata": {},
   "outputs": [
    {
     "name": "stderr",
     "output_type": "stream",
     "text": [
      "C:\\Users\\gaston\\AppData\\Local\\Temp\\ipykernel_21868\\1928382984.py:6: SettingWithCopyWarning: \n",
      "A value is trying to be set on a copy of a slice from a DataFrame.\n",
      "Try using .loc[row_indexer,col_indexer] = value instead\n",
      "\n",
      "See the caveats in the documentation: https://pandas.pydata.org/pandas-docs/stable/user_guide/indexing.html#returning-a-view-versus-a-copy\n",
      "  df_endpoint1['release_month'] = df_endpoint1['release_month'].replace({1:'enero',2:'febrero', 3:'marzo', 4:'abril', 5:'mayo', 6:'junio', 7:'julio', 8:'agosto', 9:'septiembre', 10:'octubre', 11:'noviembre', 12:'diciembre'})\n"
     ]
    }
   ],
   "source": [
    "# Generamos una nueva columna con el mes de lanzamiento\n",
    "df_movies['release_month'] = (df_movies['release_date']).dt.month\n",
    "# Hacemos un nuevo dataset solamente con las columnas que necesitaremos para el endpoint 1\n",
    "df_endpoint1 = df_movies[['title','release_month']]\n",
    "# Remplazamos los valores del mes en numeros por el nombre del mes para luego resulte mas sencilla la funcion \n",
    "df_endpoint1['release_month'] = df_endpoint1['release_month'].replace({1:'enero',2:'febrero', 3:'marzo', 4:'abril', 5:'mayo', 6:'junio', 7:'julio', 8:'agosto', 9:'septiembre', 10:'octubre', 11:'noviembre', 12:'diciembre'})"
   ]
  },
  {
   "cell_type": "code",
   "execution_count": 205,
   "metadata": {},
   "outputs": [
    {
     "data": {
      "text/plain": [
       "'5912 películas fueron estrenadas en el mes de enero'"
      ]
     },
     "execution_count": 205,
     "metadata": {},
     "output_type": "execute_result"
    }
   ],
   "source": [
    "# Hacemos la funcion que buscara todas las filmaciones que fueron lanzadas en el mes introducido \n",
    "def cantidad_filmaciones_mes1(mes:str):\n",
    "    filmaciones = df_endpoint1['title'][df_endpoint1['release_month'] == mes]\n",
    "    cantidad = filmaciones.count()\n",
    "    return f'{cantidad} películas fueron estrenadas en el mes de {mes}'\n",
    "# Y finalmente probamos la funcion\n",
    "cantidad_filmaciones_mes1('enero')"
   ]
  },
  {
   "cell_type": "markdown",
   "metadata": {},
   "source": [
    "# ENDPOINT_2"
   ]
  },
  {
   "cell_type": "code",
   "execution_count": 206,
   "metadata": {},
   "outputs": [
    {
     "data": {
      "text/plain": [
       "'3503 películas fueron estrenadas en el dia lunes'"
      ]
     },
     "execution_count": 206,
     "metadata": {},
     "output_type": "execute_result"
    }
   ],
   "source": [
    "# Generamos una nueva columna pero esta vez colocamos el dia en lugar del mes\n",
    "df_movies['release_day'] = df_movies['release_date'].dt.day_name()\n",
    "# Remplazamos los dias de la semana que estan en ingles por su equivalente en español\n",
    "df_movies['release_day'] = df_movies['release_day'].replace({\n",
    "    'Monday': 'lunes', 'Tuesday': 'martes', 'Wednesday': 'miércoles',\n",
    "    'Thursday': 'jueves', 'Friday': 'viernes', 'Saturday': 'sábado', 'Sunday': 'domingo'\n",
    "})\n",
    "# Hacemos un dataframe orientado al uso del endpoint 2\n",
    "df_endpoint2 = df_movies[['title', 'release_day']]\n",
    "# Creamos la funcion que consiste en devolver la cantidad de peliculas estrenadas en el dia ingresado\n",
    "def cantidad_filmaciones_dia(dia:str):\n",
    "    filmaciones = df_endpoint2['title'][df_endpoint2['release_day'] == dia]\n",
    "    cantidad = filmaciones.count()\n",
    "    return f'{cantidad} películas fueron estrenadas en el dia {dia}'\n",
    "# Probamos dicha funcion\n",
    "cantidad_filmaciones_dia('lunes')"
   ]
  },
  {
   "cell_type": "markdown",
   "metadata": {},
   "source": [
    "# ENDPOINT_3"
   ]
  },
  {
   "cell_type": "code",
   "execution_count": 207,
   "metadata": {},
   "outputs": [
    {
     "data": {
      "text/plain": [
       "'La película Jumanji fue estrenada en el año 1995 con un score/popularidad de 17.015539'"
      ]
     },
     "execution_count": 207,
     "metadata": {},
     "output_type": "execute_result"
    }
   ],
   "source": [
    "# Generamos el dataframe para usar en el endpoint 3\n",
    "df_endpoint3 = df_movies[['title','popularity','release_year']]\n",
    "# Generamos la funcion que busca la pelicula en el dataframe y recopila los datos solicitados\n",
    "def score_titulo(titulo_de_la_filmacion:str):\n",
    "    film = df_endpoint3[df_endpoint3['title'] == titulo_de_la_filmacion]\n",
    "    title = film['title'].values[0]\n",
    "    year = film['release_year'].values[0]\n",
    "    score = film['popularity'].values[0]\n",
    "    return f'La película {title} fue estrenada en el año {int(year)} con un score/popularidad de {score}'\n",
    "# Probamos la funcion\n",
    "score_titulo('Jumanji')"
   ]
  },
  {
   "cell_type": "markdown",
   "metadata": {},
   "source": [
    "# ENDPOINT_4"
   ]
  },
  {
   "cell_type": "code",
   "execution_count": 208,
   "metadata": {},
   "outputs": [
    {
     "data": {
      "text/plain": [
       "'La película Jumanji fue estrenada en el año 1995. La misma cuenta con un total de 2413.0 valoraciones, con un promedio de 6.9'"
      ]
     },
     "execution_count": 208,
     "metadata": {},
     "output_type": "execute_result"
    }
   ],
   "source": [
    "# Armamos el dataframe para este endpoint\n",
    "df_endpoint4 = df_movies[['title','release_year','vote_average','vote_count']]\n",
    "# Hacemos una funcion parecida al endpoint 3 y recopila informacion sobre los votos y otras caracteristicas de la pelicula\n",
    "def votos_titulo(titulo_de_la_filmacion:str):\n",
    "    film = df_endpoint4[df_endpoint4['title'] == titulo_de_la_filmacion]\n",
    "    valoraciones = film['vote_count'].values[0]\n",
    "    promedio = film['vote_average'].values[0]\n",
    "    año = film['release_year'].values[0]\n",
    "    titulo = film['title'].values[0]\n",
    "    if valoraciones < 2000:\n",
    "        return 'no cumple con la cantidad de valoraciones minimas'\n",
    "    else:\n",
    "        return f'La película {titulo} fue estrenada en el año {int(año)}. La misma cuenta con un total de {valoraciones} valoraciones, con un promedio de {promedio}'\n",
    "# Nos fijamos si funciona correctamente\n",
    "votos_titulo('Jumanji')"
   ]
  },
  {
   "cell_type": "markdown",
   "metadata": {},
   "source": [
    "# ENDPOINT 5"
   ]
  },
  {
   "cell_type": "code",
   "execution_count": 209,
   "metadata": {},
   "outputs": [
    {
     "name": "stdout",
     "output_type": "stream",
     "text": [
      "El actor Adam Sandler ha participado en 47 filmaciones, el mismo ha conseguido un retorno de 86.89 millones con un promedio de 1.849 millones por filmación\n"
     ]
    }
   ],
   "source": [
    "# Creamos el dataframe para su uso en el endpoint 5\n",
    "df_endpoint5 = df[['title', 'actors', 'return']]\n",
    "# Generamos la funcion donde se filtra las peliculas que contienen el nombre del actor en la lista de actores del df\n",
    "def get_actor(nombre:str):\n",
    "    peliculas = df_endpoint5[df_endpoint5['actors'].apply(lambda actors: nombre in actors)] # Aca el filtro de peliculas con el actor mencionado\n",
    "    pelis = peliculas['title'].tolist()\n",
    "    retorno = peliculas['return'].tolist()\n",
    "    cantidad = len(pelis)\n",
    "    ganancia = sum(retorno)\n",
    "    promedio = ganancia/cantidad\n",
    "    return print(f'El actor {nombre} ha participado en {cantidad} filmaciones, el mismo ha conseguido un retorno de {round(ganancia,3)} millones con un promedio de {round(promedio,3)} millones por filmación')\n",
    "    \n",
    "# Probamos la funcion creada\n",
    "get_actor('Adam Sandler')"
   ]
  },
  {
   "cell_type": "markdown",
   "metadata": {},
   "source": [
    "# ENDPOINT_6"
   ]
  },
  {
   "cell_type": "code",
   "execution_count": 210,
   "metadata": {},
   "outputs": [
    {
     "data": {
      "text/plain": [
       "{'nombre_director': 'Christopher Nolan',\n",
       " 'retorno_total': np.float64(44.42255888764903),\n",
       " 'informacion_peliculas':                        title release_date    return       budget       revenue\n",
       " 2468               Following   1998-09-12  8.080333       6000.0  4.848200e+04\n",
       " 4100                 Memento   2000-10-11  4.413677    9000000.0  3.972310e+07\n",
       " 5258                Insomnia   2002-05-24  2.472062   46000000.0  1.137148e+08\n",
       " 10133          Batman Begins   2005-06-10  2.494791  150000000.0  3.742187e+08\n",
       " 11368           The Prestige   2006-10-19  2.741908   40000000.0  1.096763e+08\n",
       " 12496        The Dark Knight   2008-07-16  5.430046  185000000.0  1.004558e+09\n",
       " 15503              Inception   2010-07-14  5.159580  160000000.0  8.255328e+08\n",
       " 18276  The Dark Knight Rises   2012-07-16  4.339756  250000000.0  1.084939e+09\n",
       " 22896           Interstellar   2014-11-05  4.091636  165000000.0  6.751200e+08\n",
       " 25927              Doodlebug   1997-01-01  0.000000          0.0  0.000000e+00\n",
       " 25928              Doodlebug   1997-01-01  0.000000          0.0  0.000000e+00\n",
       " 44668                Dunkirk   2017-07-19  5.198769  100000000.0  5.198769e+08}"
      ]
     },
     "execution_count": 210,
     "metadata": {},
     "output_type": "execute_result"
    }
   ],
   "source": [
    "# Ultimo dataframe para su uso en el endpoint 6\n",
    "df_endpoint6 = df[['title', 'return','director','release_date','budget','revenue']]\n",
    "# Esta funcion es mas sencilla que get_actor debido a que en la columna directores solo hay un solo nombre\n",
    "def get_director(nombre:str):\n",
    "    peliculas_director = df_endpoint6[df_endpoint6['director'] == nombre]\n",
    "    if peliculas_director.empty:\n",
    "        return f\"No se encontraron películas para el director: {nombre}\"\n",
    "    retorno_total = peliculas_director['return'].sum()\n",
    "    informacion_peliculas = peliculas_director[['title', 'release_date', 'return', 'budget', 'revenue']]\n",
    "    return {\n",
    "        'nombre_director': nombre,\n",
    "        'retorno_total': retorno_total,\n",
    "        'informacion_peliculas': informacion_peliculas\n",
    "    }\n",
    "# Finalmente probamos la funcion\n",
    "get_director('Christopher Nolan')"
   ]
  },
  {
   "cell_type": "code",
   "execution_count": 211,
   "metadata": {},
   "outputs": [],
   "source": [
    "df.to_csv('df_EDA')# creamos archivo csv con el dataframe trabajado para poder hacer el EDA en otro archivo"
   ]
  },
  {
   "cell_type": "markdown",
   "metadata": {},
   "source": [
    "### Sistema de recomendacion"
   ]
  },
  {
   "cell_type": "code",
   "execution_count": 212,
   "metadata": {},
   "outputs": [
    {
     "name": "stderr",
     "output_type": "stream",
     "text": [
      "[nltk_data] Downloading package stopwords to\n",
      "[nltk_data]     C:\\Users\\gaston/nltk_data...\n",
      "[nltk_data]   Package stopwords is already up-to-date!\n"
     ]
    }
   ],
   "source": [
    "#librerias\n",
    "import pandas as pd\n",
    "import nltk\n",
    "nltk.download('stopwords')\n",
    "from sklearn.feature_extraction.text import TfidfVectorizer\n",
    "from sklearn.neighbors import NearestNeighbors\n",
    "from rake_nltk import Rake"
   ]
  },
  {
   "cell_type": "code",
   "execution_count": 213,
   "metadata": {},
   "outputs": [
    {
     "name": "stderr",
     "output_type": "stream",
     "text": [
      "[nltk_data] Downloading package punkt to C:\\Users\\gaston/nltk_data...\n",
      "[nltk_data]   Package punkt is already up-to-date!\n",
      "[nltk_data] Downloading package punkt to C:/Users/gaston/nltk_data...\n",
      "[nltk_data]   Package punkt is already up-to-date!\n",
      "[nltk_data] Downloading package punkt_tab to\n",
      "[nltk_data]     C:\\Users\\gaston/nltk_data...\n",
      "[nltk_data]   Package punkt_tab is already up-to-date!\n"
     ]
    },
    {
     "data": {
      "text/plain": [
       "True"
      ]
     },
     "execution_count": 213,
     "metadata": {},
     "output_type": "execute_result"
    }
   ],
   "source": [
    "import nltk\n",
    "nltk.download('punkt')\n",
    "import nltk\n",
    "nltk.data.path.append('C:/Users/gaston/nltk_data')\n",
    "nltk.download('punkt', download_dir='C:/Users/gaston/nltk_data')\n",
    "\n",
    "nltk.download('punkt_tab')"
   ]
  },
  {
   "cell_type": "code",
   "execution_count": 214,
   "metadata": {},
   "outputs": [
    {
     "name": "stderr",
     "output_type": "stream",
     "text": [
      "C:\\Users\\gaston\\AppData\\Local\\Temp\\ipykernel_21868\\251848223.py:5: SettingWithCopyWarning: \n",
      "A value is trying to be set on a copy of a slice from a DataFrame.\n",
      "Try using .loc[row_indexer,col_indexer] = value instead\n",
      "\n",
      "See the caveats in the documentation: https://pandas.pydata.org/pandas-docs/stable/user_guide/indexing.html#returning-a-view-versus-a-copy\n",
      "  df_reco['title'] = df_reco['title'].fillna('')\n",
      "C:\\Users\\gaston\\AppData\\Local\\Temp\\ipykernel_21868\\251848223.py:6: SettingWithCopyWarning: \n",
      "A value is trying to be set on a copy of a slice from a DataFrame.\n",
      "Try using .loc[row_indexer,col_indexer] = value instead\n",
      "\n",
      "See the caveats in the documentation: https://pandas.pydata.org/pandas-docs/stable/user_guide/indexing.html#returning-a-view-versus-a-copy\n",
      "  df_reco['overview'] = df_reco['overview'].fillna('')\n",
      "C:\\Users\\gaston\\AppData\\Local\\Temp\\ipykernel_21868\\251848223.py:7: SettingWithCopyWarning: \n",
      "A value is trying to be set on a copy of a slice from a DataFrame.\n",
      "Try using .loc[row_indexer,col_indexer] = value instead\n",
      "\n",
      "See the caveats in the documentation: https://pandas.pydata.org/pandas-docs/stable/user_guide/indexing.html#returning-a-view-versus-a-copy\n",
      "  df_reco['genres'] = df_reco['genres'].fillna('')\n"
     ]
    },
    {
     "name": "stderr",
     "output_type": "stream",
     "text": [
      "C:\\Users\\gaston\\AppData\\Local\\Temp\\ipykernel_21868\\251848223.py:18: SettingWithCopyWarning: \n",
      "A value is trying to be set on a copy of a slice from a DataFrame.\n",
      "Try using .loc[row_indexer,col_indexer] = value instead\n",
      "\n",
      "See the caveats in the documentation: https://pandas.pydata.org/pandas-docs/stable/user_guide/indexing.html#returning-a-view-versus-a-copy\n",
      "  df_reco['keywords'] = df_reco['overview'].apply(extract_keywords)\n",
      "C:\\Users\\gaston\\AppData\\Local\\Temp\\ipykernel_21868\\251848223.py:21: SettingWithCopyWarning: \n",
      "A value is trying to be set on a copy of a slice from a DataFrame.\n",
      "Try using .loc[row_indexer,col_indexer] = value instead\n",
      "\n",
      "See the caveats in the documentation: https://pandas.pydata.org/pandas-docs/stable/user_guide/indexing.html#returning-a-view-versus-a-copy\n",
      "  df_reco['combined_text'] = df_reco['genres'] + ' ' + df_reco['keywords']\n"
     ]
    }
   ],
   "source": [
    "# Armamos el dataframe con las columnas necesarias para hacer un sistema de recomendacion con NearestNeighbors\n",
    "df_reco = df[['title','overview','genres']]\n",
    "\n",
    "# Reemplazamos valores nulos en 'title', 'overview' y 'generos' con una cadena vacía para que no haya conflictos a la hora de procesar y extraer info\n",
    "df_reco['title'] = df_reco['title'].fillna('')\n",
    "df_reco['overview'] = df_reco['overview'].fillna('')\n",
    "df_reco['genres'] = df_reco['genres'].fillna('')\n",
    "\n",
    "# Inicializamos el extractor RAKE para insertarla en la siguiente funcion\n",
    "rake = Rake()\n",
    "\n",
    "# Creamos la funcion para extraer palabras clave que vamos a aplicar a una de las columnas\n",
    "def extract_keywords(text):\n",
    "    rake.extract_keywords_from_text(text)\n",
    "    return ' '.join(rake.get_ranked_phrases())\n",
    "\n",
    "# Aplicamos la funcion de extracción de palabras clave a la columna 'overview'\n",
    "df_reco['keywords'] = df_reco['overview'].apply(extract_keywords)\n",
    "\n",
    "# Creamos una nueva columna combinando 'title', 'generos' y 'keywords' para tener toda la info necesaria para una buen sistema de recomendacion\n",
    "df_reco['combined_text'] = df_reco['genres'] + ' ' + df_reco['keywords']\n",
    "\n",
    "# Aplicamos una vectorizacion con TfidfVectorizer sobre el texto combinado anteriormente\n",
    "vect = TfidfVectorizer(stop_words='english', max_features=5000)  # Podemos ajustar 'max_features' para limitar la cantidad de palabras\n",
    "vect_matrix = vect.fit_transform(df_reco['combined_text'])\n",
    "\n",
    "# Usamos NearestNeighbors con los parametros elegidos y entrenamos el modelo\n",
    "nn_model = NearestNeighbors(metric='cosine', algorithm='brute', n_neighbors=6)\n",
    "nn_model.fit(vect_matrix)\n",
    "\n",
    "# Hacemos la función de recomendación\n",
    "def recomendacion(titulo):\n",
    "    if titulo not in df_reco['title'].values:\n",
    "        return f\"No se encontró la película: {titulo}\"\n",
    "\n",
    "    idx = df_reco[df_reco['title'] == titulo].index[0] # Aca se obtiene el indice de la pelicula ingresada\n",
    "\n",
    "    distances, indices = nn_model.kneighbors(vect_matrix[idx], n_neighbors=6) # El modelo busca y devuelve los indices de las peliculas similares\n",
    "\n",
    "    similar_titles = df_reco['title'].iloc[indices[0][1:]]  # Excluimos nuestra pelicula y devolvemos hasta 5 resultados\n",
    "    \n",
    "    return similar_titles.tolist()"
   ]
  },
  {
   "cell_type": "code",
   "execution_count": 215,
   "metadata": {},
   "outputs": [],
   "source": [
    "# Guardamos los df de cada endpoint y del sistema de recomendacion en formato parquet\n",
    "df_endpoint1.to_parquet('end1.parquet')\n",
    "df_endpoint2.to_parquet('end2.parquet')\n",
    "df_endpoint3.to_parquet('end3.parquet')\n",
    "df_endpoint4.to_parquet('end4.parquet')\n",
    "df_endpoint5.to_parquet('end5.parquet')\n",
    "df_endpoint6.to_parquet('end6.parquet')\n",
    "df_reco.to_parquet('reco.parquet')"
   ]
  }
 ],
 "metadata": {
  "kernelspec": {
   "display_name": "Python 3",
   "language": "python",
   "name": "python3"
  },
  "language_info": {
   "codemirror_mode": {
    "name": "ipython",
    "version": 3
   },
   "file_extension": ".py",
   "mimetype": "text/x-python",
   "name": "python",
   "nbconvert_exporter": "python",
   "pygments_lexer": "ipython3",
   "version": "3.13.2"
  }
 },
 "nbformat": 4,
 "nbformat_minor": 2
}
